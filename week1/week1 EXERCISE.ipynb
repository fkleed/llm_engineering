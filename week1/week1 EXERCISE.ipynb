{
 "cells": [
  {
   "cell_type": "markdown",
   "id": "fe12c203-e6a6-452c-a655-afb8a03a4ff5",
   "metadata": {},
   "source": [
    "# End of week 1 exercise\n",
    "\n",
    "To demonstrate your familiarity with OpenAI API, and also Ollama, build a tool that takes a technical question,  \n",
    "and responds with an explanation. This is a tool that you will be able to use yourself during the course!"
   ]
  },
  {
   "cell_type": "code",
   "execution_count": 1,
   "id": "c1070317-3ed9-4659-abe3-828943230e03",
   "metadata": {},
   "outputs": [],
   "source": [
    "# imports\n",
    "from openai import OpenAI\n",
    "from IPython.display import Markdown, display, update_display"
   ]
  },
  {
   "cell_type": "code",
   "execution_count": 37,
   "id": "4a456906-915a-4bfd-bb9d-57e505c5093f",
   "metadata": {},
   "outputs": [],
   "source": [
    "# constants\n",
    "\n",
    "MODEL_GPT = 'gpt-4o-mini'\n",
    "MODEL_LLAMA = 'llama3.2'\n",
    "MODEL_DEEPSEEK = 'deepseek-r1'\n"
   ]
  },
  {
   "cell_type": "code",
   "execution_count": 38,
   "id": "a8d7923c-5f28-4c30-8556-342d7c8497c1",
   "metadata": {},
   "outputs": [],
   "source": [
    "# set up environment\n",
    "ollama_via_openai = OpenAI(base_url='http://localhost:11434/v1', api_key='ollama')\n",
    "\n",
    "system_prompt = \"\"\"\n",
    "You are an AI assistant specialized in explaining concepts related to large language models (LLMs) and Python programming.  \n",
    "Your goal is to provide clear, concise, and well-structured explanations with practical code examples.  \n",
    "\n",
    "## Guidelines for Responses:  \n",
    "- Use **Markdown formatting** for better readability.  \n",
    "- Provide **both good and bad coding examples** when applicable.  \n",
    "- Explain **why** a certain approach is good or bad.  \n",
    "- Keep responses **beginner-friendly yet informative for advanced users**.\n",
    "- Respond in German.\n",
    "\n",
    "## Example 1: Simple Python Code Explanation  \n",
    "You are looking at the question related to large language models (LLMs) and Python programming: \n",
    "What does this code print(\"Hello, World!\")?\n",
    "Please explain it.\n",
    "\n",
    "**Response:**  \n",
    "```markdown  \n",
    "### Explanation  \n",
    "Die `print()` Funktion gibt Text auf der Konsole aus.  \n",
    "In diesem Fall gibt sie `\"Hello, World!\"` aus, was oft zum Erlernen neuer Programmiersprachen verwendet wird.  \n",
    "\n",
    "### Code Example  \n",
    "```python  \n",
    "print(\"Hello, World!\")  # Outputs: Hello, World!\n",
    "\"\"\"\n",
    "\n",
    "def user_prompt_for(question):\n",
    "    user_prompt = f\"You are looking at the question related to large language models (LLMs) and Python programming: {question}\"\n",
    "    user_prompt += \"\\nPlease explain it.\\n\"\n",
    "    return user_prompt\n",
    "\n",
    "\n",
    "def messages_for(question):\n",
    "    return [\n",
    "        {\"role\": \"system\", \"content\": system_prompt},\n",
    "        {\"role\": \"user\", \"content\": user_prompt_for(question)}\n",
    "    ]\n",
    "\n",
    "\n",
    "def answer_question(question):\n",
    "    stream = ollama_via_openai.chat.completions.create(\n",
    "        messages=messages_for(question),\n",
    "        model=MODEL_DEEPSEEK, \n",
    "        stream=True\n",
    "    )\n",
    "\n",
    "    response = \"\"\n",
    "    display_handle = display(Markdown(\"\"), display_id=True)\n",
    "    for chunk in stream:\n",
    "        response += chunk.choices[0].delta.content or ''\n",
    "        response = response.replace(\"```\",\"\").replace(\"markdown\", \"\")\n",
    "        update_display(Markdown(response), display_id=display_handle.display_id)\n"
   ]
  },
  {
   "cell_type": "code",
   "execution_count": 39,
   "id": "3f0d0137-52b0-47a8-81a8-11a90a010798",
   "metadata": {},
   "outputs": [],
   "source": [
    "# here is the question; type over this to ask something new\n",
    "\n",
    "question = \"\"\"\n",
    "What does this code?\n",
    "test = 1 + 1\n",
    "\"\"\""
   ]
  },
  {
   "cell_type": "code",
   "execution_count": null,
   "id": "60ce7000-a4a5-4cce-a261-e75ef45063b4",
   "metadata": {},
   "outputs": [],
   "source": [
    "# Deepseek R1"
   ]
  },
  {
   "cell_type": "code",
   "execution_count": 40,
   "id": "8f7c8ea8-4082-4ad0-8751-3301adcf6538",
   "metadata": {},
   "outputs": [
    {
     "data": {
      "text/markdown": [
       "<think>\n",
       "Okay, I need to explain what the given Python code does. The code is `test = 1 + 1`. \n",
       "\n",
       "First, I should understand that this line assigns a value to a variable named `test`. So, whatever comes on the right side of the equals sign will be stored under the variable name on the left.\n",
       "\n",
       "Looking at `1 + 1`, it's a straightforward mathematical expression. When executed, it will compute the sum of 1 and 1. In Python, this should evaluate to 2 because basic arithmetic operations like addition are handled by the interpreter correctly.\n",
       "\n",
       "I don't see any potential errors here because there's no syntax mistake or complexity involved in this line. It's a simple assignment statement without any conditional statements or loops.\n",
       "\n",
       "To add more context, if someone writes `print(test)` after this line, it would output 2. This demonstrates how variables work and how they can be used to store results of operations for later use.\n",
       "\n",
       "Furthermore, I can explain why such a code is useful in the beginning stages of learning Python. It shows variable assignment, basic arithmetic, and preparation for more complex programs where storing intermediate results can make code more readable and maintainable.\n",
       "\n",
       "I could also contrast this with more complex expressions or conditions to show how assignments are foundational but versatile. For example, instead of hardcoding 1 + 1, variables allow reusing the result in different parts of a program without rewriting the entire operation each time.\n",
       "\n",
       "Moreover, I can think about common pitfalls, such as forgetting indentation (though that's not an issue here), variable names starting with lowercase letters which is generally acceptable but something to watch out for. However, since this example doesn’t include any issues like syntax errors or name shadowing, it's a good basic illustration.\n",
       "\n",
       "In summary, the code `test = 1 + 1` assigns the sum of 1 and 1 to the variable `test`, resulting in test being equal to 2.\n",
       "</think>\n",
       "\n",
       "### Erklärung\n",
       "\n",
       "Die Zeile `test = 1 + 1` definiert eine Variable `test`, die dem Ergebnis der Berechnung `1 + 1` entspricht. Das Ergebnis dieser Addition ist `2`.\n",
       "\n",
       "\n",
       "\n",
       "### Codesbeispiel\n",
       "\n",
       "python\n",
       "test = 1 + 1\n",
       "print(test)  # 输出: 2\n",
       "\n",
       "\n",
       "In diesem Beispiel wird die Variable `test` gestift und mit dem Wert `2` initialisiert. Dann wird das Resultat mit der Print-Funktion ausgedruckt.\n",
       "\n",
       "### Warum ist diese Art von Code较好?\n",
       "\n",
       "Die Zuordnung von Werten zu Variablen erlaubt es, Ergebnisse von Berechnungen später zu verwenden, ohne sie immer neu zu berechnen oder zu ändern. Das ist grundlegend für die Erstellung komplexer Programme und ermöglicht eine übersichtlichere und lesbare Codestruktur.\n",
       "\n",
       "### Warum ist diese Art von Code schlecht?\n",
       "\n",
       "Eine schlechte Quote würde beispielsweise auf eine Syntaxfehler (wie ein fehlender Punkt) pointieren oder auf一个问题 mit der Variablenbelegung, wie z.B. einem Wiedervernutzungproblem ( OVERLAPPING assignments ), hinauspointen. In diesem Fall ist die Belegung jedoch korrekt und die Variable wird sinnvoll eingesetzt.\n",
       "\n",
       "### Fazit\n",
       "\n",
       "Die Zeile `test = 1 + 1` ist ein einfaches Beispiel für eine Variablenzuordnung in Python. Es ist eine gute Methode, um die Grundzüge der Sprache zu lernen, insbesondere concerning der Benützung von Variablen und der Ausführung arithmetischer Operationen."
      ],
      "text/plain": [
       "<IPython.core.display.Markdown object>"
      ]
     },
     "metadata": {},
     "output_type": "display_data"
    }
   ],
   "source": [
    "# Get Llama 3.2 to answer\n",
    "answer_question(question)"
   ]
  },
  {
   "cell_type": "code",
   "execution_count": null,
   "id": "a802963c-b638-4303-8e79-e9b810b2d809",
   "metadata": {},
   "outputs": [],
   "source": []
  }
 ],
 "metadata": {
  "kernelspec": {
   "display_name": "Python 3 (ipykernel)",
   "language": "python",
   "name": "python3"
  },
  "language_info": {
   "codemirror_mode": {
    "name": "ipython",
    "version": 3
   },
   "file_extension": ".py",
   "mimetype": "text/x-python",
   "name": "python",
   "nbconvert_exporter": "python",
   "pygments_lexer": "ipython3",
   "version": "3.11.11"
  }
 },
 "nbformat": 4,
 "nbformat_minor": 5
}
