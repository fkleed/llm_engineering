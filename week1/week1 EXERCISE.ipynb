{
 "cells": [
  {
   "cell_type": "markdown",
   "id": "fe12c203-e6a6-452c-a655-afb8a03a4ff5",
   "metadata": {},
   "source": [
    "# End of week 1 exercise\n",
    "\n",
    "To demonstrate your familiarity with OpenAI API, and also Ollama, build a tool that takes a technical question,  \n",
    "and responds with an explanation. This is a tool that you will be able to use yourself during the course!"
   ]
  },
  {
   "cell_type": "code",
   "execution_count": null,
   "id": "c1070317-3ed9-4659-abe3-828943230e03",
   "metadata": {},
   "outputs": [],
   "source": [
    "# imports\n",
    "from openai import OpenAI\n",
    "from IPython.display import Markdown, display, update_display"
   ]
  },
  {
   "cell_type": "code",
   "execution_count": null,
   "id": "4a456906-915a-4bfd-bb9d-57e505c5093f",
   "metadata": {},
   "outputs": [],
   "source": [
    "# constants\n",
    "\n",
    "MODEL_GPT = 'gpt-4o-mini'\n",
    "MODEL_LLAMA = 'llama3.2'\n",
    "MODEL_DEEPSEEK = 'deepseek-r1'\n"
   ]
  },
  {
   "cell_type": "code",
   "execution_count": null,
   "id": "a8d7923c-5f28-4c30-8556-342d7c8497c1",
   "metadata": {},
   "outputs": [],
   "source": [
    "# set up environment\n",
    "ollama_via_openai = OpenAI(base_url='http://localhost:11434/v1', api_key='ollama')\n",
    "\n",
    "system_prompt = \"\"\"\n",
    "You are an AI assistant specialized in explaining concepts related to large language models (LLMs) and Python programming.  \n",
    "Your goal is to provide clear, concise, and well-structured explanations with practical code examples.  \n",
    "\n",
    "## Guidelines for Responses:  \n",
    "- Use **Markdown formatting** for better readability.  \n",
    "- Provide **both good and bad coding examples** when applicable.  \n",
    "- Explain **why** a certain approach is good or bad.  \n",
    "- Keep responses **beginner-friendly yet informative for advanced users**.\n",
    "- Respond in German.\n",
    "\n",
    "## Example 1: Simple Python Code Explanation  \n",
    "You are looking at the question related to large language models (LLMs) and Python programming: \n",
    "What does this code print(\"Hello, World!\")?\n",
    "Please explain it.\n",
    "\n",
    "**Response:**  \n",
    "```markdown  \n",
    "### Explanation  \n",
    "Die `print()` Funktion gibt Text auf der Konsole aus.  \n",
    "In diesem Fall gibt sie `\"Hello, World!\"` aus, was oft zum Erlernen neuer Programmiersprachen verwendet wird.  \n",
    "\n",
    "### Code Example  \n",
    "```python  \n",
    "print(\"Hello, World!\")  # Outputs: Hello, World!\n",
    "\"\"\"\n",
    "\n",
    "def user_prompt_for(question):\n",
    "    user_prompt = f\"You are looking at the question related to large language models (LLMs) and Python programming: {question}\"\n",
    "    user_prompt += \"\\nPlease explain it.\\n\"\n",
    "    return user_prompt\n",
    "\n",
    "\n",
    "def messages_for(question):\n",
    "    return [\n",
    "        {\"role\": \"system\", \"content\": system_prompt},\n",
    "        {\"role\": \"user\", \"content\": user_prompt_for(question)}\n",
    "    ]\n",
    "\n",
    "\n",
    "def answer_question(question):\n",
    "    stream = ollama_via_openai.chat.completions.create(\n",
    "        messages=messages_for(question),\n",
    "        model=MODEL_DEEPSEEK, \n",
    "        stream=True\n",
    "    )\n",
    "\n",
    "    response = \"\"\n",
    "    display_handle = display(Markdown(\"\"), display_id=True)\n",
    "    for chunk in stream:\n",
    "        response += chunk.choices[0].delta.content or ''\n",
    "        response = response.replace(\"```\",\"\").replace(\"markdown\", \"\")\n",
    "        update_display(Markdown(response), display_id=display_handle.display_id)\n"
   ]
  },
  {
   "cell_type": "code",
   "execution_count": null,
   "id": "3f0d0137-52b0-47a8-81a8-11a90a010798",
   "metadata": {},
   "outputs": [],
   "source": [
    "# here is the question; type over this to ask something new\n",
    "\n",
    "question = \"\"\"\n",
    "What does this code?\n",
    "test = 1 + 1\n",
    "\"\"\""
   ]
  },
  {
   "cell_type": "code",
   "execution_count": null,
   "id": "60ce7000-a4a5-4cce-a261-e75ef45063b4",
   "metadata": {},
   "outputs": [],
   "source": [
    "# Deepseek R1"
   ]
  },
  {
   "cell_type": "code",
   "execution_count": null,
   "id": "8f7c8ea8-4082-4ad0-8751-3301adcf6538",
   "metadata": {},
   "outputs": [],
   "source": [
    "# Get Llama 3.2 to answer\n",
    "answer_question(question)"
   ]
  },
  {
   "cell_type": "code",
   "execution_count": null,
   "id": "a802963c-b638-4303-8e79-e9b810b2d809",
   "metadata": {},
   "outputs": [],
   "source": []
  }
 ],
 "metadata": {
  "kernelspec": {
   "display_name": "Python 3 (ipykernel)",
   "language": "python",
   "name": "python3"
  },
  "language_info": {
   "codemirror_mode": {
    "name": "ipython",
    "version": 3
   },
   "file_extension": ".py",
   "mimetype": "text/x-python",
   "name": "python",
   "nbconvert_exporter": "python",
   "pygments_lexer": "ipython3",
   "version": "3.11.11"
  }
 },
 "nbformat": 4,
 "nbformat_minor": 5
}
